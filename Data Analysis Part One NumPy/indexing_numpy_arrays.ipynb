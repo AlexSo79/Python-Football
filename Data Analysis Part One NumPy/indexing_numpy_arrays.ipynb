{
 "cells": [
  {
   "cell_type": "code",
   "execution_count": 1,
   "id": "699024e5",
   "metadata": {},
   "outputs": [],
   "source": [
    "# Import the NumPy library for numerical operations\n",
    "import numpy as np"
   ]
  },
  {
   "cell_type": "code",
   "execution_count": 2,
   "id": "31e8037b",
   "metadata": {},
   "outputs": [],
   "source": [
    "# Create an array of World Cup years from 1930 to 2022, with a step of 4 years\n",
    "WCYears = np.arange(1930,2023,4)"
   ]
  },
  {
   "cell_type": "code",
   "execution_count": 3,
   "id": "1c9afcf4",
   "metadata": {},
   "outputs": [
    {
     "data": {
      "text/plain": [
       "array([1930, 1934, 1938, 1942, 1946, 1950, 1954, 1958, 1962, 1966, 1970,\n",
       "       1974, 1978, 1982, 1986, 1990, 1994, 1998, 2002, 2006, 2010, 2014,\n",
       "       2018, 2022])"
      ]
     },
     "execution_count": 3,
     "metadata": {},
     "output_type": "execute_result"
    }
   ],
   "source": [
    "# Display the array of World Cup years\n",
    "WCYears"
   ]
  },
  {
   "cell_type": "code",
   "execution_count": 4,
   "id": "2a350a50",
   "metadata": {},
   "outputs": [],
   "source": [
    "# Remove the years 1942 and 1946 (index 3 and 4) as World Cups were not held during these years\n",
    "WCYears = np.delete(WCYears,(3,4))"
   ]
  },
  {
   "cell_type": "code",
   "execution_count": 5,
   "id": "3513c7f3",
   "metadata": {},
   "outputs": [
    {
     "data": {
      "text/plain": [
       "array([1930, 1934, 1938, 1950, 1954, 1958, 1962, 1966, 1970, 1974, 1978,\n",
       "       1982, 1986, 1990, 1994, 1998, 2002, 2006, 2010, 2014, 2018, 2022])"
      ]
     },
     "execution_count": 5,
     "metadata": {},
     "output_type": "execute_result"
    }
   ],
   "source": [
    "# Display the updated array of World Cup years\n",
    "WCYears"
   ]
  },
  {
   "cell_type": "code",
   "execution_count": 6,
   "id": "a35b73ad",
   "metadata": {},
   "outputs": [
    {
     "data": {
      "text/plain": [
       "np.int64(1938)"
      ]
     },
     "execution_count": 6,
     "metadata": {},
     "output_type": "execute_result"
    }
   ],
   "source": [
    "# Demonstrate bracket selection for accessing specific elements in the array\n",
    "# Find the year of the third World Cup (index 2 in the array)\n",
    "WCYears[2]"
   ]
  },
  {
   "cell_type": "code",
   "execution_count": 7,
   "id": "781875b9",
   "metadata": {},
   "outputs": [
    {
     "data": {
      "text/plain": [
       "array([1950, 1954, 1958, 1962])"
      ]
     },
     "execution_count": 7,
     "metadata": {},
     "output_type": "execute_result"
    }
   ],
   "source": [
    "# Display the four World Cups held after World War II (indices 3 to 6)\n",
    "WCYears[3:7]"
   ]
  },
  {
   "cell_type": "code",
   "execution_count": 8,
   "id": "5b1e8b7c",
   "metadata": {},
   "outputs": [],
   "source": [
    "# Demonstrate selection in a second array (grid) for more complex indexing\n",
    "# Create arrays for World Cup years, hosts, and winners for recent tournaments\n",
    "WCYears=[2002,2006,2010,2014]\n",
    "WCHosts=[\"Korea/Japan\",\"Germany\",\"South Africa\",\"Brazil\"]\n",
    "WCWinners=[\"Brazil\",\"Italy\",\"Spain\",\"Germany\"]"
   ]
  },
  {
   "cell_type": "code",
   "execution_count": 9,
   "id": "d4fe9ca6",
   "metadata": {},
   "outputs": [],
   "source": [
    "# Combine the arrays into a 2D NumPy array for easier indexing\n",
    "WCArray = np.array((WCYears,WCHosts,WCWinners))"
   ]
  },
  {
   "cell_type": "code",
   "execution_count": 10,
   "id": "d1e93a5f",
   "metadata": {},
   "outputs": [
    {
     "data": {
      "text/plain": [
       "array([['2002', '2006', '2010', '2014'],\n",
       "       ['Korea/Japan', 'Germany', 'South Africa', 'Brazil'],\n",
       "       ['Brazil', 'Italy', 'Spain', 'Germany']], dtype='<U21')"
      ]
     },
     "execution_count": 10,
     "metadata": {},
     "output_type": "execute_result"
    }
   ],
   "source": [
    "# Display the 2D array containing World Cup years, hosts, and winners\n",
    "WCArray"
   ]
  },
  {
   "cell_type": "code",
   "execution_count": 11,
   "id": "d13b5633",
   "metadata": {},
   "outputs": [
    {
     "data": {
      "text/plain": [
       "np.str_('South Africa')"
      ]
     },
     "execution_count": 11,
     "metadata": {},
     "output_type": "execute_result"
    }
   ],
   "source": [
    "# Find the host of the 2010 World Cup (second row, third column)\n",
    "WCArray[1,2]"
   ]
  },
  {
   "cell_type": "code",
   "execution_count": 12,
   "id": "41030d90",
   "metadata": {},
   "outputs": [
    {
     "data": {
      "text/plain": [
       "np.str_('Germany')"
      ]
     },
     "execution_count": 12,
     "metadata": {},
     "output_type": "execute_result"
    }
   ],
   "source": [
    "# Find the winner of the last World Cup in the array using negative indexing\n",
    "WCArray[2,-1]"
   ]
  },
  {
   "cell_type": "code",
   "execution_count": 13,
   "id": "ac938bab",
   "metadata": {},
   "outputs": [],
   "source": [
    "# Demonstrate selecting part of an array based on specific criteria\n",
    "# Create arrays for World Cup years, top scorers, and their goal counts\n",
    "WCYears=np.array([1966,1970,1974,1978])\n",
    "WCTopScores=np.array([\"Eusebio\",\"Muller\",\"Lato\",\"Kempes\"])\n",
    "WCGoals=np.array([9,10,7,6])"
   ]
  },
  {
   "cell_type": "code",
   "execution_count": 14,
   "id": "a08e07a3",
   "metadata": {},
   "outputs": [
    {
     "data": {
      "text/plain": [
       "array([ True,  True, False, False])"
      ]
     },
     "execution_count": 14,
     "metadata": {},
     "output_type": "execute_result"
    }
   ],
   "source": [
    "# Identify which top scorers scored more than 8 goals\n",
    "WCGoals > 8"
   ]
  },
  {
   "cell_type": "code",
   "execution_count": 15,
   "id": "14af596d",
   "metadata": {},
   "outputs": [
    {
     "data": {
      "text/plain": [
       "array(['Eusebio', 'Muller'], dtype='<U7')"
      ]
     },
     "execution_count": 15,
     "metadata": {},
     "output_type": "execute_result"
    }
   ],
   "source": [
    "# Use bracket selection to find the names of top scorers who scored more than 8 goals\n",
    "WCTopScores[(WCGoals>8)]"
   ]
  }
 ],
 "metadata": {
  "kernelspec": {
   "display_name": "Python 3",
   "language": "python",
   "name": "python3"
  },
  "language_info": {
   "codemirror_mode": {
    "name": "ipython",
    "version": 3
   },
   "file_extension": ".py",
   "mimetype": "text/x-python",
   "name": "python",
   "nbconvert_exporter": "python",
   "pygments_lexer": "ipython3",
   "version": "3.12.1"
  }
 },
 "nbformat": 4,
 "nbformat_minor": 5
}
