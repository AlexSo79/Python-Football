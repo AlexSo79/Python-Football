{
 "cells": [
  {
   "cell_type": "code",
   "execution_count": 1,
   "id": "3f459914",
   "metadata": {},
   "outputs": [],
   "source": [
    "# Import the NumPy library for numerical computations\n",
    "import numpy as np"
   ]
  },
  {
   "cell_type": "code",
   "execution_count": 3,
   "id": "ab8d1267",
   "metadata": {},
   "outputs": [],
   "source": [
    "# Define three lists: one for goalkeeper names, one for their heights, and one for their weights\n",
    "GKNames = [\"Onana\",\"Maignan\",\"Ederson\",\"Donnarumma\"]\n",
    "GKHeights = [\"190\",\"190\",\"188\",\"196\"]\n",
    "GKWeights = [\"93\",\"89\",\"87\",\"92\"]"
   ]
  },
  {
   "cell_type": "code",
   "execution_count": 4,
   "id": "7962f01b",
   "metadata": {},
   "outputs": [
    {
     "name": "stdout",
     "output_type": "stream",
     "text": [
      "['Onana' 'Maignan' 'Ederson' 'Donnarumma']\n"
     ]
    }
   ],
   "source": [
    "# Convert the list of goalkeeper names into a NumPy array and print it\n",
    "print(np.array(GKNames))"
   ]
  },
  {
   "cell_type": "code",
   "execution_count": 5,
   "id": "07188a1b",
   "metadata": {},
   "outputs": [],
   "source": [
    "# Create a matrix combining the goalkeeper names, heights, and weights\n",
    "GKMatrix = [GKNames,GKHeights,GKWeights]"
   ]
  },
  {
   "cell_type": "code",
   "execution_count": 6,
   "id": "327b1986",
   "metadata": {},
   "outputs": [
    {
     "name": "stdout",
     "output_type": "stream",
     "text": [
      "[['Onana' 'Maignan' 'Ederson' 'Donnarumma']\n",
      " ['190' '190' '188' '196']\n",
      " ['93' '89' '87' '92']]\n"
     ]
    }
   ],
   "source": [
    "# Convert the goalkeeper matrix into a NumPy array and print it\n",
    "print(np.array(GKMatrix))"
   ]
  },
  {
   "cell_type": "code",
   "execution_count": 7,
   "id": "822fa977",
   "metadata": {},
   "outputs": [
    {
     "data": {
      "text/plain": [
       "array([ 0,  1,  2,  3,  4,  5,  6,  7,  8,  9, 10, 11])"
      ]
     },
     "execution_count": 7,
     "metadata": {},
     "output_type": "execute_result"
    }
   ],
   "source": [
    "# Demonstrate the use of the arange function to create a range of numbers\n",
    "# Create an array with numbers from 0 to 11\n",
    "np.arange(0,12)"
   ]
  },
  {
   "cell_type": "code",
   "execution_count": 8,
   "id": "0ab20cbe",
   "metadata": {},
   "outputs": [
    {
     "data": {
      "text/plain": [
       "array([[0., 0., 0., 0., 0., 0., 0., 0., 0., 0., 0.],\n",
       "       [0., 0., 0., 0., 0., 0., 0., 0., 0., 0., 0.],\n",
       "       [0., 0., 0., 0., 0., 0., 0., 0., 0., 0., 0.]])"
      ]
     },
     "execution_count": 8,
     "metadata": {},
     "output_type": "execute_result"
    }
   ],
   "source": [
    "# Create a 3x11 array filled with zeros\n",
    "np.zeros((3,11))"
   ]
  },
  {
   "cell_type": "code",
   "execution_count": 9,
   "id": "e6bec8df",
   "metadata": {},
   "outputs": [
    {
     "data": {
      "text/plain": [
       "array([[1., 1., 1., 1., 1., 1., 1., 1., 1., 1., 1.],\n",
       "       [1., 1., 1., 1., 1., 1., 1., 1., 1., 1., 1.],\n",
       "       [1., 1., 1., 1., 1., 1., 1., 1., 1., 1., 1.]])"
      ]
     },
     "execution_count": 9,
     "metadata": {},
     "output_type": "execute_result"
    }
   ],
   "source": [
    "# Create a 3x11 array filled with ones\n",
    "np.ones((3,11))"
   ]
  },
  {
   "cell_type": "code",
   "execution_count": 10,
   "id": "33703d08",
   "metadata": {},
   "outputs": [
    {
     "name": "stdout",
     "output_type": "stream",
     "text": [
      "[[-0.81705026 -2.23339863  1.4949714 ]\n",
      " [ 0.42910086 -0.3943879  -0.33435202]\n",
      " [ 0.74650152 -0.82704702  1.06772977]]\n"
     ]
    }
   ],
   "source": [
    "# Generate a 3x3 array of random numbers from a standard normal distribution\n",
    "print(np.random.randn(3,3))"
   ]
  },
  {
   "cell_type": "code",
   "execution_count": 11,
   "id": "5f9410cc",
   "metadata": {},
   "outputs": [
    {
     "name": "stdout",
     "output_type": "stream",
     "text": [
      "[[54 87 55]\n",
      " [11 10  1]\n",
      " [12 94 96]]\n"
     ]
    }
   ],
   "source": [
    "# Generate a 3x3 array of random integers between 1 and 100\n",
    "print(np.random.randint(1,100,(3,3)))"
   ]
  },
  {
   "cell_type": "code",
   "execution_count": 12,
   "id": "0a1aa310",
   "metadata": {},
   "outputs": [],
   "source": [
    "# Re-import NumPy and redefine the goalkeeper data with numerical values for heights and weights\n",
    "import numpy as np\n",
    "GKNames = [\"Onana\",\"Maignan\",\"Ederson\",\"Donnarumma\"]\n",
    "GKHeights = [190,190,188,196]\n",
    "GKWeights = [93,89,87,92]"
   ]
  },
  {
   "cell_type": "code",
   "execution_count": 13,
   "id": "28be0211",
   "metadata": {},
   "outputs": [],
   "source": [
    "# Convert the list of goalkeeper heights into a NumPy array\n",
    "GKHeights = np.array(GKHeights)"
   ]
  },
  {
   "cell_type": "code",
   "execution_count": 14,
   "id": "9aa42b3a",
   "metadata": {},
   "outputs": [
    {
     "data": {
      "text/plain": [
       "np.int64(196)"
      ]
     },
     "execution_count": 14,
     "metadata": {},
     "output_type": "execute_result"
    }
   ],
   "source": [
    "# Find the maximum height among the goalkeepers\n",
    "GKHeights.max()"
   ]
  },
  {
   "cell_type": "code",
   "execution_count": 15,
   "id": "17091094",
   "metadata": {},
   "outputs": [
    {
     "data": {
      "text/plain": [
       "np.int64(3)"
      ]
     },
     "execution_count": 15,
     "metadata": {},
     "output_type": "execute_result"
    }
   ],
   "source": [
    "# Find the index of the goalkeeper with the maximum height\n",
    "GKHeights.argmax()"
   ]
  },
  {
   "cell_type": "code",
   "execution_count": 16,
   "id": "e0493724",
   "metadata": {},
   "outputs": [
    {
     "data": {
      "text/plain": [
       "'Donnarumma'"
      ]
     },
     "execution_count": 16,
     "metadata": {},
     "output_type": "execute_result"
    }
   ],
   "source": [
    "# Retrieve the name of the tallest goalkeeper using the index\n",
    "GKNames[GKHeights.argmax()]"
   ]
  }
 ],
 "metadata": {
  "kernelspec": {
   "display_name": "Python 3",
   "language": "python",
   "name": "python3"
  },
  "language_info": {
   "codemirror_mode": {
    "name": "ipython",
    "version": 3
   },
   "file_extension": ".py",
   "mimetype": "text/x-python",
   "name": "python",
   "nbconvert_exporter": "python",
   "pygments_lexer": "ipython3",
   "version": "3.12.1"
  }
 },
 "nbformat": 4,
 "nbformat_minor": 5
}
